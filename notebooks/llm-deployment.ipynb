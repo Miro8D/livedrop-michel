{
 "cells": [
  {
   "cell_type": "code",
   "execution_count": null,
   "id": "0e1456b1",
   "metadata": {},
   "outputs": [
    {
     "name": "stdout",
     "output_type": "stream",
     "text": [
      "Requirement already satisfied: transformers in /usr/local/lib/python3.12/dist-packages (4.56.1)\n",
      "Requirement already satisfied: accelerate in /usr/local/lib/python3.12/dist-packages (1.10.1)\n",
      "Requirement already satisfied: bitsandbytes in /usr/local/lib/python3.12/dist-packages (0.48.0)\n",
      "Requirement already satisfied: sentence-transformers in /usr/local/lib/python3.12/dist-packages (5.1.0)\n",
      "Requirement already satisfied: faiss-cpu in /usr/local/lib/python3.12/dist-packages (1.12.0)\n",
      "Requirement already satisfied: filelock in /usr/local/lib/python3.12/dist-packages (from transformers) (3.19.1)\n",
      "Requirement already satisfied: huggingface-hub<1.0,>=0.34.0 in /usr/local/lib/python3.12/dist-packages (from transformers) (0.35.0)\n",
      "Requirement already satisfied: numpy>=1.17 in /usr/local/lib/python3.12/dist-packages (from transformers) (2.0.2)\n",
      "Requirement already satisfied: packaging>=20.0 in /usr/local/lib/python3.12/dist-packages (from transformers) (25.0)\n",
      "Requirement already satisfied: pyyaml>=5.1 in /usr/local/lib/python3.12/dist-packages (from transformers) (6.0.2)\n",
      "Requirement already satisfied: regex!=2019.12.17 in /usr/local/lib/python3.12/dist-packages (from transformers) (2024.11.6)\n",
      "Requirement already satisfied: requests in /usr/local/lib/python3.12/dist-packages (from transformers) (2.32.4)\n",
      "Requirement already satisfied: tokenizers<=0.23.0,>=0.22.0 in /usr/local/lib/python3.12/dist-packages (from transformers) (0.22.0)\n",
      "Requirement already satisfied: safetensors>=0.4.3 in /usr/local/lib/python3.12/dist-packages (from transformers) (0.6.2)\n",
      "Requirement already satisfied: tqdm>=4.27 in /usr/local/lib/python3.12/dist-packages (from transformers) (4.67.1)\n",
      "Requirement already satisfied: psutil in /usr/local/lib/python3.12/dist-packages (from accelerate) (5.9.5)\n",
      "Requirement already satisfied: torch>=2.0.0 in /usr/local/lib/python3.12/dist-packages (from accelerate) (2.8.0+cu126)\n",
      "Requirement already satisfied: scikit-learn in /usr/local/lib/python3.12/dist-packages (from sentence-transformers) (1.6.1)\n",
      "Requirement already satisfied: scipy in /usr/local/lib/python3.12/dist-packages (from sentence-transformers) (1.16.2)\n",
      "Requirement already satisfied: Pillow in /usr/local/lib/python3.12/dist-packages (from sentence-transformers) (11.3.0)\n",
      "Requirement already satisfied: typing_extensions>=4.5.0 in /usr/local/lib/python3.12/dist-packages (from sentence-transformers) (4.15.0)\n",
      "Requirement already satisfied: fsspec>=2023.5.0 in /usr/local/lib/python3.12/dist-packages (from huggingface-hub<1.0,>=0.34.0->transformers) (2025.3.0)\n",
      "Requirement already satisfied: hf-xet<2.0.0,>=1.1.3 in /usr/local/lib/python3.12/dist-packages (from huggingface-hub<1.0,>=0.34.0->transformers) (1.1.10)\n",
      "Requirement already satisfied: setuptools in /usr/local/lib/python3.12/dist-packages (from torch>=2.0.0->accelerate) (75.2.0)\n",
      "Requirement already satisfied: sympy>=1.13.3 in /usr/local/lib/python3.12/dist-packages (from torch>=2.0.0->accelerate) (1.13.3)\n",
      "Requirement already satisfied: networkx in /usr/local/lib/python3.12/dist-packages (from torch>=2.0.0->accelerate) (3.5)\n",
      "Requirement already satisfied: jinja2 in /usr/local/lib/python3.12/dist-packages (from torch>=2.0.0->accelerate) (3.1.6)\n",
      "Requirement already satisfied: nvidia-cuda-nvrtc-cu12==12.6.77 in /usr/local/lib/python3.12/dist-packages (from torch>=2.0.0->accelerate) (12.6.77)\n",
      "Requirement already satisfied: nvidia-cuda-runtime-cu12==12.6.77 in /usr/local/lib/python3.12/dist-packages (from torch>=2.0.0->accelerate) (12.6.77)\n",
      "Requirement already satisfied: nvidia-cuda-cupti-cu12==12.6.80 in /usr/local/lib/python3.12/dist-packages (from torch>=2.0.0->accelerate) (12.6.80)\n",
      "Requirement already satisfied: nvidia-cudnn-cu12==9.10.2.21 in /usr/local/lib/python3.12/dist-packages (from torch>=2.0.0->accelerate) (9.10.2.21)\n",
      "Requirement already satisfied: nvidia-cublas-cu12==12.6.4.1 in /usr/local/lib/python3.12/dist-packages (from torch>=2.0.0->accelerate) (12.6.4.1)\n",
      "Requirement already satisfied: nvidia-cufft-cu12==11.3.0.4 in /usr/local/lib/python3.12/dist-packages (from torch>=2.0.0->accelerate) (11.3.0.4)\n",
      "Requirement already satisfied: nvidia-curand-cu12==10.3.7.77 in /usr/local/lib/python3.12/dist-packages (from torch>=2.0.0->accelerate) (10.3.7.77)\n",
      "Requirement already satisfied: nvidia-cusolver-cu12==11.7.1.2 in /usr/local/lib/python3.12/dist-packages (from torch>=2.0.0->accelerate) (11.7.1.2)\n",
      "Requirement already satisfied: nvidia-cusparse-cu12==12.5.4.2 in /usr/local/lib/python3.12/dist-packages (from torch>=2.0.0->accelerate) (12.5.4.2)\n",
      "Requirement already satisfied: nvidia-cusparselt-cu12==0.7.1 in /usr/local/lib/python3.12/dist-packages (from torch>=2.0.0->accelerate) (0.7.1)\n",
      "Requirement already satisfied: nvidia-nccl-cu12==2.27.3 in /usr/local/lib/python3.12/dist-packages (from torch>=2.0.0->accelerate) (2.27.3)\n",
      "Requirement already satisfied: nvidia-nvtx-cu12==12.6.77 in /usr/local/lib/python3.12/dist-packages (from torch>=2.0.0->accelerate) (12.6.77)\n",
      "Requirement already satisfied: nvidia-nvjitlink-cu12==12.6.85 in /usr/local/lib/python3.12/dist-packages (from torch>=2.0.0->accelerate) (12.6.85)\n",
      "Requirement already satisfied: nvidia-cufile-cu12==1.11.1.6 in /usr/local/lib/python3.12/dist-packages (from torch>=2.0.0->accelerate) (1.11.1.6)\n",
      "Requirement already satisfied: triton==3.4.0 in /usr/local/lib/python3.12/dist-packages (from torch>=2.0.0->accelerate) (3.4.0)\n",
      "Requirement already satisfied: charset_normalizer<4,>=2 in /usr/local/lib/python3.12/dist-packages (from requests->transformers) (3.4.3)\n",
      "Requirement already satisfied: idna<4,>=2.5 in /usr/local/lib/python3.12/dist-packages (from requests->transformers) (3.10)\n",
      "Requirement already satisfied: urllib3<3,>=1.21.1 in /usr/local/lib/python3.12/dist-packages (from requests->transformers) (2.5.0)\n",
      "Requirement already satisfied: certifi>=2017.4.17 in /usr/local/lib/python3.12/dist-packages (from requests->transformers) (2025.8.3)\n",
      "Requirement already satisfied: joblib>=1.2.0 in /usr/local/lib/python3.12/dist-packages (from scikit-learn->sentence-transformers) (1.5.2)\n",
      "Requirement already satisfied: threadpoolctl>=3.1.0 in /usr/local/lib/python3.12/dist-packages (from scikit-learn->sentence-transformers) (3.6.0)\n",
      "Requirement already satisfied: mpmath<1.4,>=1.1.0 in /usr/local/lib/python3.12/dist-packages (from sympy>=1.13.3->torch>=2.0.0->accelerate) (1.3.0)\n",
      "Requirement already satisfied: MarkupSafe>=2.0 in /usr/local/lib/python3.12/dist-packages (from jinja2->torch>=2.0.0->accelerate) (3.0.2)\n"
     ]
    }
   ],
   "source": [
    "!pip install transformers accelerate bitsandbytes sentence-transformers faiss-cpu bitsandbytes"
   ]
  },
  {
   "cell_type": "markdown",
   "id": "9a749db3",
   "metadata": {},
   "source": [
    "## Logging in to hugging face"
   ]
  },
  {
   "cell_type": "code",
   "execution_count": null,
   "id": "db114d0d",
   "metadata": {},
   "outputs": [
    {
     "name": "stdout",
     "output_type": "stream",
     "text": [
      "Enter your hugging face token: \n"
     ]
    }
   ],
   "source": [
    "from huggingface_hub import login\n",
    "\n",
    "login(input(\"Enter your hugging face token: \"))"
   ]
  },
  {
   "cell_type": "markdown",
   "id": "4f8bc25a",
   "metadata": {},
   "source": [
    "## Llama initialization"
   ]
  },
  {
   "cell_type": "code",
   "execution_count": null,
   "id": "f1707d48",
   "metadata": {},
   "outputs": [
    {
     "data": {
      "application/vnd.jupyter.widget-view+json": {
       "model_id": "0902a7684cb0434481aaea62aa8e4dfd",
       "version_major": 2,
       "version_minor": 0
      },
      "text/plain": [
       "Loading checkpoint shards:   0%|          | 0/4 [00:00<?, ?it/s]"
      ]
     },
     "metadata": {},
     "output_type": "display_data"
    },
    {
     "name": "stderr",
     "output_type": "stream",
     "text": [
      "Device set to use cuda:0\n"
     ]
    }
   ],
   "source": [
    "from transformers import AutoModelForCausalLM, AutoTokenizer, BitsAndBytesConfig, pipeline\n",
    "\n",
    "model_id = \"meta-llama/Meta-Llama-3-8B-Instruct\"\n",
    "\n",
    "bnb_config = BitsAndBytesConfig(\n",
    "    load_in_4bit=True,\n",
    "    bnb_4bit_compute_dtype=\"float16\",\n",
    "    bnb_4bit_use_double_quant=True,\n",
    "    bnb_4bit_quant_type=\"nf4\"\n",
    ")\n",
    "\n",
    "tokenizer = AutoTokenizer.from_pretrained(model_id)\n",
    "\n",
    "model = AutoModelForCausalLM.from_pretrained(\n",
    "    model_id,\n",
    "    device_map=\"auto\",\n",
    "    quantization_config=bnb_config\n",
    ")\n",
    "llm = pipeline(\"text-generation\", model=model, tokenizer=tokenizer)\n",
    "tokenizer.pad_token_id = tokenizer.eos_token_id"
   ]
  },
  {
   "cell_type": "code",
   "execution_count": null,
   "id": "d7b65607",
   "metadata": {},
   "outputs": [
    {
     "name": "stderr",
     "output_type": "stream",
     "text": [
      "Setting `pad_token_id` to `eos_token_id`:128001 for open-end generation.\n"
     ]
    },
    {
     "name": "stdout",
     "output_type": "stream",
     "text": [
      "What is RAG system? RAG system is a method used to categorize the risk associated with a project, process or activity. The term RAG stands for Red, Amber, Green, which are the three colors used to indicate the level of risk.\n",
      "What is RAG\n"
     ]
    }
   ],
   "source": [
    "inputs = tokenizer(\"What is RAG system ?\", return_tensors=\"pt\").to(\"cuda\")\n",
    "outputs = model.generate(**inputs, max_new_tokens=50)\n",
    "print(tokenizer.decode(outputs[0], skip_special_tokens=True))"
   ]
  },
  {
   "cell_type": "markdown",
   "id": "3e0f5293",
   "metadata": {},
   "source": [
    "## Assistant prompts"
   ]
  },
  {
   "cell_type": "code",
   "execution_count": null,
   "id": "04ccda65",
   "metadata": {},
   "outputs": [
    {
     "name": "stdout",
     "output_type": "stream",
     "text": [
      "please upload docs\n"
     ]
    },
    {
     "data": {
      "text/html": [
       "\n",
       "     <input type=\"file\" id=\"files-96b07027-23f8-4869-a670-c92ade0d54b2\" name=\"files[]\" multiple disabled\n",
       "        style=\"border:none\" />\n",
       "     <output id=\"result-96b07027-23f8-4869-a670-c92ade0d54b2\">\n",
       "      Upload widget is only available when the cell has been executed in the\n",
       "      current browser session. Please rerun this cell to enable.\n",
       "      </output>\n",
       "      <script>// Copyright 2017 Google LLC\n",
       "//\n",
       "// Licensed under the Apache License, Version 2.0 (the \"License\");\n",
       "// you may not use this file except in compliance with the License.\n",
       "// You may obtain a copy of the License at\n",
       "//\n",
       "//      http://www.apache.org/licenses/LICENSE-2.0\n",
       "//\n",
       "// Unless required by applicable law or agreed to in writing, software\n",
       "// distributed under the License is distributed on an \"AS IS\" BASIS,\n",
       "// WITHOUT WARRANTIES OR CONDITIONS OF ANY KIND, either express or implied.\n",
       "// See the License for the specific language governing permissions and\n",
       "// limitations under the License.\n",
       "\n",
       "/**\n",
       " * @fileoverview Helpers for google.colab Python module.\n",
       " */\n",
       "(function(scope) {\n",
       "function span(text, styleAttributes = {}) {\n",
       "  const element = document.createElement('span');\n",
       "  element.textContent = text;\n",
       "  for (const key of Object.keys(styleAttributes)) {\n",
       "    element.style[key] = styleAttributes[key];\n",
       "  }\n",
       "  return element;\n",
       "}\n",
       "\n",
       "// Max number of bytes which will be uploaded at a time.\n",
       "const MAX_PAYLOAD_SIZE = 100 * 1024;\n",
       "\n",
       "function _uploadFiles(inputId, outputId) {\n",
       "  const steps = uploadFilesStep(inputId, outputId);\n",
       "  const outputElement = document.getElementById(outputId);\n",
       "  // Cache steps on the outputElement to make it available for the next call\n",
       "  // to uploadFilesContinue from Python.\n",
       "  outputElement.steps = steps;\n",
       "\n",
       "  return _uploadFilesContinue(outputId);\n",
       "}\n",
       "\n",
       "// This is roughly an async generator (not supported in the browser yet),\n",
       "// where there are multiple asynchronous steps and the Python side is going\n",
       "// to poll for completion of each step.\n",
       "// This uses a Promise to block the python side on completion of each step,\n",
       "// then passes the result of the previous step as the input to the next step.\n",
       "function _uploadFilesContinue(outputId) {\n",
       "  const outputElement = document.getElementById(outputId);\n",
       "  const steps = outputElement.steps;\n",
       "\n",
       "  const next = steps.next(outputElement.lastPromiseValue);\n",
       "  return Promise.resolve(next.value.promise).then((value) => {\n",
       "    // Cache the last promise value to make it available to the next\n",
       "    // step of the generator.\n",
       "    outputElement.lastPromiseValue = value;\n",
       "    return next.value.response;\n",
       "  });\n",
       "}\n",
       "\n",
       "/**\n",
       " * Generator function which is called between each async step of the upload\n",
       " * process.\n",
       " * @param {string} inputId Element ID of the input file picker element.\n",
       " * @param {string} outputId Element ID of the output display.\n",
       " * @return {!Iterable<!Object>} Iterable of next steps.\n",
       " */\n",
       "function* uploadFilesStep(inputId, outputId) {\n",
       "  const inputElement = document.getElementById(inputId);\n",
       "  inputElement.disabled = false;\n",
       "\n",
       "  const outputElement = document.getElementById(outputId);\n",
       "  outputElement.innerHTML = '';\n",
       "\n",
       "  const pickedPromise = new Promise((resolve) => {\n",
       "    inputElement.addEventListener('change', (e) => {\n",
       "      resolve(e.target.files);\n",
       "    });\n",
       "  });\n",
       "\n",
       "  const cancel = document.createElement('button');\n",
       "  inputElement.parentElement.appendChild(cancel);\n",
       "  cancel.textContent = 'Cancel upload';\n",
       "  const cancelPromise = new Promise((resolve) => {\n",
       "    cancel.onclick = () => {\n",
       "      resolve(null);\n",
       "    };\n",
       "  });\n",
       "\n",
       "  // Wait for the user to pick the files.\n",
       "  const files = yield {\n",
       "    promise: Promise.race([pickedPromise, cancelPromise]),\n",
       "    response: {\n",
       "      action: 'starting',\n",
       "    }\n",
       "  };\n",
       "\n",
       "  cancel.remove();\n",
       "\n",
       "  // Disable the input element since further picks are not allowed.\n",
       "  inputElement.disabled = true;\n",
       "\n",
       "  if (!files) {\n",
       "    return {\n",
       "      response: {\n",
       "        action: 'complete',\n",
       "      }\n",
       "    };\n",
       "  }\n",
       "\n",
       "  for (const file of files) {\n",
       "    const li = document.createElement('li');\n",
       "    li.append(span(file.name, {fontWeight: 'bold'}));\n",
       "    li.append(span(\n",
       "        `(${file.type || 'n/a'}) - ${file.size} bytes, ` +\n",
       "        `last modified: ${\n",
       "            file.lastModifiedDate ? file.lastModifiedDate.toLocaleDateString() :\n",
       "                                    'n/a'} - `));\n",
       "    const percent = span('0% done');\n",
       "    li.appendChild(percent);\n",
       "\n",
       "    outputElement.appendChild(li);\n",
       "\n",
       "    const fileDataPromise = new Promise((resolve) => {\n",
       "      const reader = new FileReader();\n",
       "      reader.onload = (e) => {\n",
       "        resolve(e.target.result);\n",
       "      };\n",
       "      reader.readAsArrayBuffer(file);\n",
       "    });\n",
       "    // Wait for the data to be ready.\n",
       "    let fileData = yield {\n",
       "      promise: fileDataPromise,\n",
       "      response: {\n",
       "        action: 'continue',\n",
       "      }\n",
       "    };\n",
       "\n",
       "    // Use a chunked sending to avoid message size limits. See b/62115660.\n",
       "    let position = 0;\n",
       "    do {\n",
       "      const length = Math.min(fileData.byteLength - position, MAX_PAYLOAD_SIZE);\n",
       "      const chunk = new Uint8Array(fileData, position, length);\n",
       "      position += length;\n",
       "\n",
       "      const base64 = btoa(String.fromCharCode.apply(null, chunk));\n",
       "      yield {\n",
       "        response: {\n",
       "          action: 'append',\n",
       "          file: file.name,\n",
       "          data: base64,\n",
       "        },\n",
       "      };\n",
       "\n",
       "      let percentDone = fileData.byteLength === 0 ?\n",
       "          100 :\n",
       "          Math.round((position / fileData.byteLength) * 100);\n",
       "      percent.textContent = `${percentDone}% done`;\n",
       "\n",
       "    } while (position < fileData.byteLength);\n",
       "  }\n",
       "\n",
       "  // All done.\n",
       "  yield {\n",
       "    response: {\n",
       "      action: 'complete',\n",
       "    }\n",
       "  };\n",
       "}\n",
       "\n",
       "scope.google = scope.google || {};\n",
       "scope.google.colab = scope.google.colab || {};\n",
       "scope.google.colab._files = {\n",
       "  _uploadFiles,\n",
       "  _uploadFilesContinue,\n",
       "};\n",
       "})(self);\n",
       "</script> "
      ],
      "text/plain": [
       "<IPython.core.display.HTML object>"
      ]
     },
     "metadata": {},
     "output_type": "display_data"
    },
    {
     "name": "stdout",
     "output_type": "stream",
     "text": [
      "Saving assistant-prompts.yml to assistant-prompts (1).yml\n"
     ]
    }
   ],
   "source": [
    "import yaml\n",
    "\n",
    "try:\n",
    "  from google.colab import files\n",
    "  print(\"please upload docs\")\n",
    "  uploaded = files.upload()\n",
    "except:\n",
    "  print(\"not running on colab\")\n",
    "\n",
    "with open(\"assistant-prompts.yml\", \"r\") as f:   # change this to the correct path, this path is meant to work in colab\n",
    "    PROMPTS = yaml.safe_load(f)\n",
    "\n",
    "def clean_doc_text(doc):\n",
    "    \"\"\"\n",
    "    Remove Markdown headers (#, ##, ###, etc.) and extra whitespace from a document.\n",
    "    \"\"\"\n",
    "\n",
    "    doc = re.sub(r'^#{1,6}\\s*', '', doc, flags=re.MULTILINE)\n",
    "\n",
    "    doc = doc.strip()\n",
    "    return doc\n",
    "\n",
    "def build_prompt(prompt_type, context, question, retrieved_docs=None):\n",
    "    cfg = PROMPTS[prompt_type]\n",
    "\n",
    "    if retrieved_docs and len(retrieved_docs) > 0:\n",
    "        cleaned_docs = [clean_doc_text(doc) for doc in retrieved_docs]\n",
    "        sources_text = \"\\n\\n\".join(cleaned_docs)\n",
    "        explanation_text = f\"This answer is based on {len(retrieved_docs)} document(s) from the knowledge base.\"\n",
    "    else:\n",
    "        sources_text = \"None\"\n",
    "        explanation_text = \"No relevant documents found.\"\n",
    "\n",
    "    prompt = f\"\"\"{cfg['role']}\n",
    "\n",
    "Goal:\n",
    "{cfg['goal']}\n",
    "\n",
    "Context:\n",
    "{context}\n",
    "\n",
    "Question: {question}\n",
    "\n",
    "{cfg['response_format']}\n",
    "{explanation_text}\n",
    "\"\"\"\n",
    "    return prompt\n",
    "\n"
   ]
  },
  {
   "cell_type": "markdown",
   "id": "542a2a9b",
   "metadata": {},
   "source": [
    "## FAISS"
   ]
  },
  {
   "cell_type": "code",
   "execution_count": null,
   "id": "6fe2045e",
   "metadata": {},
   "outputs": [
    {
     "name": "stdout",
     "output_type": "stream",
     "text": [
      "please upload docs\n"
     ]
    },
    {
     "data": {
      "text/html": [
       "\n",
       "     <input type=\"file\" id=\"files-70173cbb-b8a0-4e3a-9fbc-17868146ce97\" name=\"files[]\" multiple disabled\n",
       "        style=\"border:none\" />\n",
       "     <output id=\"result-70173cbb-b8a0-4e3a-9fbc-17868146ce97\">\n",
       "      Upload widget is only available when the cell has been executed in the\n",
       "      current browser session. Please rerun this cell to enable.\n",
       "      </output>\n",
       "      <script>// Copyright 2017 Google LLC\n",
       "//\n",
       "// Licensed under the Apache License, Version 2.0 (the \"License\");\n",
       "// you may not use this file except in compliance with the License.\n",
       "// You may obtain a copy of the License at\n",
       "//\n",
       "//      http://www.apache.org/licenses/LICENSE-2.0\n",
       "//\n",
       "// Unless required by applicable law or agreed to in writing, software\n",
       "// distributed under the License is distributed on an \"AS IS\" BASIS,\n",
       "// WITHOUT WARRANTIES OR CONDITIONS OF ANY KIND, either express or implied.\n",
       "// See the License for the specific language governing permissions and\n",
       "// limitations under the License.\n",
       "\n",
       "/**\n",
       " * @fileoverview Helpers for google.colab Python module.\n",
       " */\n",
       "(function(scope) {\n",
       "function span(text, styleAttributes = {}) {\n",
       "  const element = document.createElement('span');\n",
       "  element.textContent = text;\n",
       "  for (const key of Object.keys(styleAttributes)) {\n",
       "    element.style[key] = styleAttributes[key];\n",
       "  }\n",
       "  return element;\n",
       "}\n",
       "\n",
       "// Max number of bytes which will be uploaded at a time.\n",
       "const MAX_PAYLOAD_SIZE = 100 * 1024;\n",
       "\n",
       "function _uploadFiles(inputId, outputId) {\n",
       "  const steps = uploadFilesStep(inputId, outputId);\n",
       "  const outputElement = document.getElementById(outputId);\n",
       "  // Cache steps on the outputElement to make it available for the next call\n",
       "  // to uploadFilesContinue from Python.\n",
       "  outputElement.steps = steps;\n",
       "\n",
       "  return _uploadFilesContinue(outputId);\n",
       "}\n",
       "\n",
       "// This is roughly an async generator (not supported in the browser yet),\n",
       "// where there are multiple asynchronous steps and the Python side is going\n",
       "// to poll for completion of each step.\n",
       "// This uses a Promise to block the python side on completion of each step,\n",
       "// then passes the result of the previous step as the input to the next step.\n",
       "function _uploadFilesContinue(outputId) {\n",
       "  const outputElement = document.getElementById(outputId);\n",
       "  const steps = outputElement.steps;\n",
       "\n",
       "  const next = steps.next(outputElement.lastPromiseValue);\n",
       "  return Promise.resolve(next.value.promise).then((value) => {\n",
       "    // Cache the last promise value to make it available to the next\n",
       "    // step of the generator.\n",
       "    outputElement.lastPromiseValue = value;\n",
       "    return next.value.response;\n",
       "  });\n",
       "}\n",
       "\n",
       "/**\n",
       " * Generator function which is called between each async step of the upload\n",
       " * process.\n",
       " * @param {string} inputId Element ID of the input file picker element.\n",
       " * @param {string} outputId Element ID of the output display.\n",
       " * @return {!Iterable<!Object>} Iterable of next steps.\n",
       " */\n",
       "function* uploadFilesStep(inputId, outputId) {\n",
       "  const inputElement = document.getElementById(inputId);\n",
       "  inputElement.disabled = false;\n",
       "\n",
       "  const outputElement = document.getElementById(outputId);\n",
       "  outputElement.innerHTML = '';\n",
       "\n",
       "  const pickedPromise = new Promise((resolve) => {\n",
       "    inputElement.addEventListener('change', (e) => {\n",
       "      resolve(e.target.files);\n",
       "    });\n",
       "  });\n",
       "\n",
       "  const cancel = document.createElement('button');\n",
       "  inputElement.parentElement.appendChild(cancel);\n",
       "  cancel.textContent = 'Cancel upload';\n",
       "  const cancelPromise = new Promise((resolve) => {\n",
       "    cancel.onclick = () => {\n",
       "      resolve(null);\n",
       "    };\n",
       "  });\n",
       "\n",
       "  // Wait for the user to pick the files.\n",
       "  const files = yield {\n",
       "    promise: Promise.race([pickedPromise, cancelPromise]),\n",
       "    response: {\n",
       "      action: 'starting',\n",
       "    }\n",
       "  };\n",
       "\n",
       "  cancel.remove();\n",
       "\n",
       "  // Disable the input element since further picks are not allowed.\n",
       "  inputElement.disabled = true;\n",
       "\n",
       "  if (!files) {\n",
       "    return {\n",
       "      response: {\n",
       "        action: 'complete',\n",
       "      }\n",
       "    };\n",
       "  }\n",
       "\n",
       "  for (const file of files) {\n",
       "    const li = document.createElement('li');\n",
       "    li.append(span(file.name, {fontWeight: 'bold'}));\n",
       "    li.append(span(\n",
       "        `(${file.type || 'n/a'}) - ${file.size} bytes, ` +\n",
       "        `last modified: ${\n",
       "            file.lastModifiedDate ? file.lastModifiedDate.toLocaleDateString() :\n",
       "                                    'n/a'} - `));\n",
       "    const percent = span('0% done');\n",
       "    li.appendChild(percent);\n",
       "\n",
       "    outputElement.appendChild(li);\n",
       "\n",
       "    const fileDataPromise = new Promise((resolve) => {\n",
       "      const reader = new FileReader();\n",
       "      reader.onload = (e) => {\n",
       "        resolve(e.target.result);\n",
       "      };\n",
       "      reader.readAsArrayBuffer(file);\n",
       "    });\n",
       "    // Wait for the data to be ready.\n",
       "    let fileData = yield {\n",
       "      promise: fileDataPromise,\n",
       "      response: {\n",
       "        action: 'continue',\n",
       "      }\n",
       "    };\n",
       "\n",
       "    // Use a chunked sending to avoid message size limits. See b/62115660.\n",
       "    let position = 0;\n",
       "    do {\n",
       "      const length = Math.min(fileData.byteLength - position, MAX_PAYLOAD_SIZE);\n",
       "      const chunk = new Uint8Array(fileData, position, length);\n",
       "      position += length;\n",
       "\n",
       "      const base64 = btoa(String.fromCharCode.apply(null, chunk));\n",
       "      yield {\n",
       "        response: {\n",
       "          action: 'append',\n",
       "          file: file.name,\n",
       "          data: base64,\n",
       "        },\n",
       "      };\n",
       "\n",
       "      let percentDone = fileData.byteLength === 0 ?\n",
       "          100 :\n",
       "          Math.round((position / fileData.byteLength) * 100);\n",
       "      percent.textContent = `${percentDone}% done`;\n",
       "\n",
       "    } while (position < fileData.byteLength);\n",
       "  }\n",
       "\n",
       "  // All done.\n",
       "  yield {\n",
       "    response: {\n",
       "      action: 'complete',\n",
       "    }\n",
       "  };\n",
       "}\n",
       "\n",
       "scope.google = scope.google || {};\n",
       "scope.google.colab = scope.google.colab || {};\n",
       "scope.google.colab._files = {\n",
       "  _uploadFiles,\n",
       "  _uploadFilesContinue,\n",
       "};\n",
       "})(self);\n",
       "</script> "
      ],
      "text/plain": [
       "<IPython.core.display.HTML object>"
      ]
     },
     "metadata": {},
     "output_type": "display_data"
    },
    {
     "name": "stdout",
     "output_type": "stream",
     "text": [
      "Saving knowledge-base.md to knowledge-base (1).md\n"
     ]
    }
   ],
   "source": [
    "from sentence_transformers import SentenceTransformer, util\n",
    "import faiss\n",
    "import numpy as np\n",
    "\n",
    "embedder = SentenceTransformer(\"sentence-transformers/all-MiniLM-L6-v2\")\n",
    "\n",
    "try:\n",
    "  from google.colab import files\n",
    "  print(\"please upload docs\")\n",
    "  uploaded = files.upload()\n",
    "except:\n",
    "  print(\"not running on colab\")\n",
    "\n",
    "with open(\"knowledge-base.md\", \"r\") as f:\n",
    "    kb_text = f.read()\n",
    "\n",
    "raw_docs = kb_text.split(\"---\")\n",
    "documents = [doc.strip() for doc in raw_docs if doc.strip()]\n",
    "\n",
    "embedder = SentenceTransformer(\"sentence-transformers/all-MiniLM-L6-v2\")\n",
    "embeddings = embedder.encode(documents, convert_to_numpy=True)\n",
    "dimension = embeddings.shape[1]\n",
    "index = faiss.IndexFlatL2(dimension)\n",
    "index.add(embeddings)"
   ]
  },
  {
   "cell_type": "markdown",
   "id": "66ef7195",
   "metadata": {},
   "source": [
    "## rag query"
   ]
  },
  {
   "cell_type": "code",
   "execution_count": null,
   "id": "02c2c00c",
   "metadata": {},
   "outputs": [
    {
     "name": "stderr",
     "output_type": "stream",
     "text": [
      "The following generation flags are not valid and may be ignored: ['temperature', 'top_p']. Set `TRANSFORMERS_VERBOSITY=info` for more details.\n",
      "Setting `pad_token_id` to `eos_token_id`:128001 for open-end generation.\n"
     ]
    },
    {
     "data": {
      "application/vnd.google.colaboratory.intrinsic+json": {
       "type": "string"
      },
      "text/plain": [
       "'This answer is based on 3 document(s) from the knowledge base.\\nAccording to Document 7: Returns and Refunds, refunds are processed within 7–10 business days after items are inspected. This is the standard timeframe for refunds. However, please note that this timeframe may vary depending on the specific circumstances of the return. For more information, please refer to Document 7.'"
      ]
     },
     "metadata": {},
     "output_type": "display_data"
    }
   ],
   "source": [
    "import re\n",
    "\n",
    "def rag_query(query, threshold=2, k=3):\n",
    "    qb = embedder.encode([query], convert_to_numpy=True)\n",
    "    distances, indices = index.search(qb, k)\n",
    "\n",
    "    retrieved_docs = [documents[i] for i in indices[0] if i < len(documents)]\n",
    "    min_distance = float(distances[0][0]) if len(distances[0]) > 0 else 1.0\n",
    "\n",
    "    if len(retrieved_docs) == 0 or min_distance > threshold:\n",
    "        prompt_type = \"no_context_prompt\"\n",
    "        context = \"\"\n",
    "    elif len(retrieved_docs) == 1:\n",
    "        prompt_type = \"base_retrieval_prompt\"\n",
    "        context = retrieved_docs[0]\n",
    "    else:\n",
    "        prompt_type = \"multi_doc_prompt\"\n",
    "        context = \"\\n\\n\".join(retrieved_docs)\n",
    "\n",
    "    prompt = build_prompt(prompt_type, context, query, retrieved_docs=retrieved_docs)\n",
    "    response = llm(prompt, max_new_tokens=512, temperature=0.2, do_sample=False)\n",
    "    full_text = response[0]['generated_text'].strip()\n",
    "\n",
    "    if \"Answer:\" in full_text:\n",
    "        return full_text.split(\"Answer:\", 1)[-1].strip()\n",
    "    else:\n",
    "        return full_text\n",
    "\n",
    "rag_query(\"what is the refund time ?\")"
   ]
  },
  {
   "cell_type": "markdown",
   "id": "c5f25b08",
   "metadata": {},
   "source": [
    "## Evaluating q&a\n",
    "### using semantic evaluation\n",
    "\n"
   ]
  },
  {
   "cell_type": "code",
   "execution_count": null,
   "id": "f1980b06",
   "metadata": {},
   "outputs": [
    {
     "name": "stderr",
     "output_type": "stream",
     "text": [
      "Setting `pad_token_id` to `eos_token_id`:128001 for open-end generation.\n"
     ]
    },
    {
     "name": "stdout",
     "output_type": "stream",
     "text": [
      "QA:  20\n"
     ]
    },
    {
     "name": "stderr",
     "output_type": "stream",
     "text": [
      "Setting `pad_token_id` to `eos_token_id`:128001 for open-end generation.\n"
     ]
    },
    {
     "name": "stdout",
     "output_type": "stream",
     "text": [
      "[Q1] ### Q1: How do I create an account on Shoplite?\n",
      "Expected: You can create an account using your email and password, or sign up with Google/Facebook login. A verified email is required for confirmations and password resets.\n",
      "Got: This answer is based on 3 document(s) from the knowledge base.\n",
      "To create an account on Shoplite, you need to sign up with a valid email address, a password, and acceptance of Shoplite's terms of service. You can also register using Google or Facebook login. After creating an account, you can manage profile details, shipping addresses, and payment methods from the Account Settings page. A verified email is required for order confirmations and password resets. Accounts that remain inactive for long periods may be flagged for review, but they are not automatically deleted. Shoplite ensures user data is stored securely, following encryption standards and privacy rules.\n",
      "Similarity: 0.60 | Correct: True\n",
      "\n"
     ]
    },
    {
     "name": "stderr",
     "output_type": "stream",
     "text": [
      "Setting `pad_token_id` to `eos_token_id`:128001 for open-end generation.\n"
     ]
    },
    {
     "name": "stdout",
     "output_type": "stream",
     "text": [
      "[Q2] ### Q2: What payment methods does Shoplite support?\n",
      "Expected: Shoplite accepts Visa, Mastercard, American Express, PayPal, and cash on delivery (COD in eligible regions). COD has a handling fee and is limited to orders under $200.\n",
      "Got: This answer is based on 3 document(s) from the knowledge base.\n",
      "Shoplite supports Visa, Mastercard, American Express, PayPal, and cash on delivery (COD) for eligible regions. COD has a handling fee and is only available for orders under $200. Prepaid methods (credit/debit cards, PayPal) are encouraged as they speed up delivery. Shoplite never stores card details directly; instead, tokenized information is saved with trusted payment providers. Failed payments may result in order cancellation unless corrected within 24 hours. Customers are advised not to share payment details with anyone claiming to represent Shoplite outside the official app or website.\n",
      "Similarity: 0.94 | Correct: True\n",
      "\n"
     ]
    },
    {
     "name": "stderr",
     "output_type": "stream",
     "text": [
      "Setting `pad_token_id` to `eos_token_id`:128001 for open-end generation.\n"
     ]
    },
    {
     "name": "stdout",
     "output_type": "stream",
     "text": [
      "[Q3] ### Q3: How long does standard shipping take?\n",
      "Expected: Standard shipping takes 5–7 business days. Express shipping takes 2–3 business days. Orders above $100 get free standard shipping.\n",
      "Got: This answer is based on 3 document(s) from the knowledge base.\n",
      "Standard shipping typically takes 5–7 business days. (Document 6: Shipping Policy)\n",
      "Similarity: 0.82 | Correct: True\n",
      "\n"
     ]
    },
    {
     "name": "stderr",
     "output_type": "stream",
     "text": [
      "Setting `pad_token_id` to `eos_token_id`:128001 for open-end generation.\n"
     ]
    },
    {
     "name": "stdout",
     "output_type": "stream",
     "text": [
      "[Q4] ### Q4: Can I cancel an order after it ships?\n",
      "Expected: Orders can only be freely canceled during the Processing stage. Once shipped, cancellations are not guaranteed and require contacting customer support.\n",
      "Got: This answer is based on 3 document(s) from the knowledge base.\n",
      "According to Document 18: Cancellation Policy, once an order is shipped, cancellation is not guaranteed. Document 4: Ordering Process also states that cancellations are possible while the order is still in the Processing stage, but after that, cancellation requires contacting customer support. Document 17: Order Tracking shows that tracking status updates to \"Shipped\" when the order is shipped, indicating that the order has left the Processing stage. Therefore, the answer is: **No, you cannot cancel an order after it ships.**\n",
      "\n",
      "\n",
      "Please let me know if you need any further assistance.\n",
      "Similarity: 0.79 | Correct: True\n",
      "\n"
     ]
    },
    {
     "name": "stderr",
     "output_type": "stream",
     "text": [
      "Setting `pad_token_id` to `eos_token_id`:128001 for open-end generation.\n"
     ]
    },
    {
     "name": "stdout",
     "output_type": "stream",
     "text": [
      "[Q5] ### Q5: What is Shoplite Drops?\n",
      "Expected: Drops are limited-time product launches (like sneakers or electronics) with limited stock. Orders are first-come-first-serve, and they cannot be canceled once confirmed.\n",
      "Got: This answer is based on 3 document(s) from the knowledge base.\n",
      "Shoplite Drops refer to the exclusive or limited-time products that go live on the platform. These drops usually include electronics, sneakers, or special collaborations. Each drop is announced in advance, and orders are first-come-first-serve. Quantities are often limited, and orders in drops cannot be canceled once confirmed. Shoplite uses queueing systems to handle high demand during drops, and users may face waiting rooms before checkout.\n",
      "Similarity: 0.73 | Correct: True\n",
      "\n"
     ]
    },
    {
     "name": "stderr",
     "output_type": "stream",
     "text": [
      "Setting `pad_token_id` to `eos_token_id`:128001 for open-end generation.\n"
     ]
    },
    {
     "name": "stdout",
     "output_type": "stream",
     "text": [
      "[Q6] ### Q6: What is Shoplite’s return policy?\n",
      "Expected: Returns are allowed within 30 days of delivery if items are unused, in original packaging, and with proof of purchase. Some items like perishable goods or digital downloads are not eligible. Refunds are processed within 7–10 business days.\n",
      "Got: This answer is based on 3 document(s) from the knowledge base.\n",
      "Shoplite allows returns within 30 days of delivery, provided items are unused, in original packaging, and accompanied by proof of purchase. Certain products like perishable goods, intimate wear, or digital downloads are not eligible for return. Refunds are processed within 7–10 business days after items are inspected. If the original payment was by credit card or PayPal, refunds are issued back to the same method. For COD orders, refunds are provided as store credit. Return shipping is free if the product was damaged, defective, or incorrect. Otherwise, return shipping costs may apply. Third-party products are covered by Shoplite’s return and refund policies unless otherwise specified. Warranty claims are not eligible for return. Customers should contact Shoplite support for more information.\n",
      "Similarity: 0.78 | Correct: True\n",
      "\n"
     ]
    },
    {
     "name": "stderr",
     "output_type": "stream",
     "text": [
      "Setting `pad_token_id` to `eos_token_id`:128001 for open-end generation.\n"
     ]
    },
    {
     "name": "stdout",
     "output_type": "stream",
     "text": [
      "[Q7] ### Q7: How does Shoplite handle refunds for COD orders?\n",
      "Expected: For COD purchases, refunds are provided as store credit instead of cash.\n",
      "Got: This answer is based on 3 document(s) from the knowledge base.\n",
      "Shoplite provides refunds for COD orders as store credit. Refunds are processed within 7-10 business days after items are inspected. If the original payment was by credit card or PayPal, refunds are issued back to the same method. For COD orders, refunds are provided as store credit. Return shipping is free if the product was damaged, defective, or incorrect. Otherwise, return shipping costs may apply. (Document 7: Returns and Refunds) COD has a handling fee and is only available for orders under $200. (Document 5: Payment Methods) Shoplite never stores card details directly; instead, tokenized information is saved with trusted payment providers. (Document 5: Payment Methods) Failed payments may result in order cancellation unless corrected within 24 hours. Customers are advised not to share payment details with anyone claiming to represent Shoplite outside the official app or website. (Document 5: Payment Methods) Shoplite holds seller payments in escrow until orders are confirmed delivered. If disputes arise, Shoplite mediates between customer and seller. Seller ratings are shown publicly, and low-performing sellers may be removed. Third-party products are covered by Shoplite’s return and refund policies unless otherwise specified. (Document 15: Seller Partnerships) COD orders are eligible for store credit refunds. Refunds are processed within 7-10 business days after items are inspected. Return shipping is free if the product was damaged, defective, or incorrect. Otherwise, return shipping costs may apply. (Document 7: Returns and Refunds) COD has a handling fee and is only available for orders under $200. (Document 5: Payment Methods) Shoplite never stores card details directly; instead, tokenized information is saved with trusted payment providers. (Document 5: Payment Methods) Failed payments may result in order cancellation unless corrected within 24 hours. Customers are advised not to share payment details with anyone claiming to represent Shoplite outside the official app or website. (Document 5: Payment Methods) Shoplite holds seller payments in escrow until orders are confirmed delivered. If disputes arise, Shoplite mediates between customer and seller. Seller ratings are shown publicly, and low-performing sellers may be removed. Third-party products are covered by Shoplite’s return and refund policies unless otherwise specified. (Document 15: Seller Partnerships) COD orders are eligible for store credit refunds. Refunds are processed within 7-10 business days after items are inspected. Return shipping is free if the product was damaged, defective,\n",
      "Similarity: 0.65 | Correct: True\n",
      "\n"
     ]
    },
    {
     "name": "stderr",
     "output_type": "stream",
     "text": [
      "Setting `pad_token_id` to `eos_token_id`:128001 for open-end generation.\n"
     ]
    },
    {
     "name": "stdout",
     "output_type": "stream",
     "text": [
      "[Q8] ### Q8: Do all products come with a warranty?\n",
      "Expected: Not all, but many items do. Most warranties last 6–12 months and cover defects in materials or workmanship. They don’t cover misuse or accidents.\n",
      "Got: This answer is based on 3 document(s) from the knowledge base.\n",
      "Yes, many Shoplite products come with a manufacturer's warranty, usually 6–12 months depending on the item. However, warranty does not cover damage from misuse, accidents, or normal wear and tear. (Document 8: Warranty Policy)\n",
      "Similarity: 0.66 | Correct: True\n",
      "\n"
     ]
    },
    {
     "name": "stderr",
     "output_type": "stream",
     "text": [
      "You seem to be using the pipelines sequentially on GPU. In order to maximize efficiency please use a dataset\n",
      "Setting `pad_token_id` to `eos_token_id`:128001 for open-end generation.\n"
     ]
    },
    {
     "name": "stdout",
     "output_type": "stream",
     "text": [
      "[Q9] ### Q9: How do I track my order after purchase?\n",
      "Expected: You can track order status from Processing → Shipped → Out for Delivery → Delivered in your account. Once shipped, you’ll also receive a courier tracking number.\n",
      "Got: This answer is based on 3 document(s) from the knowledge base.\n",
      "To track your order after purchase, you can log in to your Shoplite account and view the order status. The tracking information will show the steps from “Processing” to “Delivered.” You will receive notifications at each stage. If you have any issues or concerns, please report them to Shoplite within 48 hours of delivery. We will investigate with the courier and provide updates promptly when information is available.\n",
      "Similarity: 0.71 | Correct: True\n",
      "\n"
     ]
    },
    {
     "name": "stderr",
     "output_type": "stream",
     "text": [
      "Setting `pad_token_id` to `eos_token_id`:128001 for open-end generation.\n"
     ]
    },
    {
     "name": "stdout",
     "output_type": "stream",
     "text": [
      "[Q10] ### Q10: What should I do if my package says “Delivered” but I didn’t receive it?\n",
      "Expected: You should report it to Shoplite support within 48 hours. Shoplite will investigate with the courier.\n",
      "Got: This answer is based on 3 document(s) from the knowledge base.\n",
      "According to Document 17: Order Tracking, if tracking shows “Delivered” but the item is missing, customers should report within 48 hours. Shoplite will investigate with the courier. If you didn't receive your package and it says \"Delivered\" in your tracking, report the issue to Shoplite within 48 hours. We will investigate with the courier to resolve the issue.\n",
      "Similarity: 0.68 | Correct: True\n",
      "\n"
     ]
    },
    {
     "name": "stderr",
     "output_type": "stream",
     "text": [
      "Setting `pad_token_id` to `eos_token_id`:128001 for open-end generation.\n"
     ]
    },
    {
     "name": "stdout",
     "output_type": "stream",
     "text": [
      "[Q11] ### Q11: Does Shoplite store my credit card details?\n",
      "Expected: No. Shoplite does not store card details directly. Instead, it saves tokenized payment info through secure payment providers.\n",
      "Got: This answer is based on 3 document(s) from the knowledge base.\n",
      "Shoplite does not store your credit card details directly. Instead, tokenized information is saved with trusted payment providers. This ensures secure and compliant payment processing. (Document 5: Payment Methods)\n",
      "Similarity: 0.90 | Correct: True\n",
      "\n"
     ]
    },
    {
     "name": "stderr",
     "output_type": "stream",
     "text": [
      "Setting `pad_token_id` to `eos_token_id`:128001 for open-end generation.\n"
     ]
    },
    {
     "name": "stdout",
     "output_type": "stream",
     "text": [
      "[Q12] ### Q12: How does the loyalty program work?\n",
      "Expected: For every $1 spent, you earn 1 point. Points can be redeemed for discounts (100 points = $1 off). Points expire after 12 months of inactivity.\n",
      "Got: This answer is based on 3 document(s) from the knowledge base.\n",
      "The Shoplite Rewards loyalty program allows customers to earn points for every dollar spent. Points can be redeemed for discounts, and members receive early access to drops and special promotions. Points expire after 12 months of inactivity, and they cannot be transferred between accounts. Customers can track their points in the Account Settings page.\n",
      "Similarity: 0.75 | Correct: True\n",
      "\n"
     ]
    },
    {
     "name": "stderr",
     "output_type": "stream",
     "text": [
      "Setting `pad_token_id` to `eos_token_id`:128001 for open-end generation.\n"
     ]
    },
    {
     "name": "stdout",
     "output_type": "stream",
     "text": [
      "[Q13] ### Q13: Can I combine multiple coupons in one order?\n",
      "Expected: No. Coupons cannot be stacked — only one coupon can be applied per order.\n",
      "Got: This answer is based on 3 document(s) from the knowledge base.\n",
      "According to Document 13: Promotions and Discounts, \"Discounts may not stack with other offers.\" This implies that you cannot combine multiple coupons in one order. However, it's always best to check the validity dates on coupons and verify with Shoplite support if you have any doubts.\n",
      "Similarity: 0.76 | Correct: True\n",
      "\n"
     ]
    },
    {
     "name": "stderr",
     "output_type": "stream",
     "text": [
      "Setting `pad_token_id` to `eos_token_id`:128001 for open-end generation.\n"
     ]
    },
    {
     "name": "stdout",
     "output_type": "stream",
     "text": [
      "[Q14] ### Q14: Are reviews moderated on Shoplite?\n",
      "Expected: Yes. Reviews are monitored for abusive or fake content and may be removed. Only verified customers can post reviews.\n",
      "Got: This answer is based on 3 document(s) from the knowledge base.\n",
      "Reviews are moderated on Shoplite. According to Document 14: Review System, Shoplite monitors reviews for inappropriate content and may remove fake or abusive reviews. This ensures that reviews are trustworthy and helpful for other shoppers.\n",
      "Similarity: 0.62 | Correct: True\n",
      "\n"
     ]
    },
    {
     "name": "stderr",
     "output_type": "stream",
     "text": [
      "Setting `pad_token_id` to `eos_token_id`:128001 for open-end generation.\n"
     ]
    },
    {
     "name": "stdout",
     "output_type": "stream",
     "text": [
      "[Q15] ### Q15: How are third-party sellers managed?\n",
      "Expected: Sellers must be verified before listing products. Shoplite holds their payments in escrow until delivery is confirmed. Poor-performing sellers may be removed.\n",
      "Got: This answer is based on 3 document(s) from the knowledge base.\n",
      "Third-party sellers on Shoplite are managed through a verification process and agreement to Shoplite's policies. Shoplite holds their payments in escrow until orders are confirmed delivered. If disputes arise, Shoplite mediates between the customer and seller. Seller ratings are publicly displayed, and low-performing sellers may be removed. Shoplite's return and refund policies apply to third-party products unless otherwise specified. This ensures a smooth and trustworthy shopping experience for customers.\n",
      "Similarity: 0.80 | Correct: True\n",
      "\n"
     ]
    },
    {
     "name": "stderr",
     "output_type": "stream",
     "text": [
      "Setting `pad_token_id` to `eos_token_id`:128001 for open-end generation.\n"
     ]
    },
    {
     "name": "stdout",
     "output_type": "stream",
     "text": [
      "[Q16] ### Q16: Does Shoplite have a mobile app?\n",
      "Expected: Yes, on iOS and Android. The app supports push notifications, biometric login, barcode scanning, and voice search. Offline browsing is also available.\n",
      "Got: This answer is based on 3 document(s) from the knowledge base.\n",
      "Yes, Shoplite has a mobile app available on iOS and Android. The app offers various features, including push notifications, biometric login, barcode scanning, voice search, and in-app chat support. Offline browsing is also available, allowing customers to save wishlists and carts without internet, syncing when online. The app is updated monthly with bug fixes and new features. Customers are encouraged to keep the app updated for the best experience.\n",
      "Similarity: 0.68 | Correct: True\n",
      "\n"
     ]
    },
    {
     "name": "stderr",
     "output_type": "stream",
     "text": [
      "Setting `pad_token_id` to `eos_token_id`:128001 for open-end generation.\n"
     ]
    },
    {
     "name": "stdout",
     "output_type": "stream",
     "text": [
      "[Q17] ### Q17: How secure is my personal data on Shoplite?\n",
      "Expected: Shoplite complies with GDPR, encrypts all data transfers, and lets users delete their accounts anytime. Payment details are never stored directly.\n",
      "Got: This answer is based on 3 document(s) from the knowledge base.\n",
      "Shoplite takes privacy seriously and complies with GDPR and other privacy laws. Personal data such as name, email, and address is collected for order fulfillment and customer service. Payment details are never stored directly. Shoplite uses encryption for all data transfers and performs regular audits of its systems to prevent breaches. Additionally, user data is stored securely, following encryption standards and privacy rules. Customers can request account deletion at any time, which removes personal data except for records required by law. Cookies are used to improve browsing, and customers can adjust cookie settings. Overall, Shoplite ensures the security and privacy of your personal data.\n",
      "Similarity: 0.88 | Correct: True\n",
      "\n"
     ]
    },
    {
     "name": "stderr",
     "output_type": "stream",
     "text": [
      "Setting `pad_token_id` to `eos_token_id`:128001 for open-end generation.\n"
     ]
    },
    {
     "name": "stdout",
     "output_type": "stream",
     "text": [
      "[Q18] ### Q18: Does Shoplite offer student discounts?\n",
      "Expected: Yes. Student discounts are sometimes offered through partner verification services.\n",
      "Got: This answer is based on 3 document(s) from the knowledge base.\n",
      "Yes, Shoplite sometimes offers student discounts, which require verification through partner services. (Document 13: Promotions and Discounts) These discounts are not mentioned in the loyalty program (Document 12), but they are mentioned in the Shoplite Overview (Document 1) as a type of promotion. The loyalty program does not provide information on student discounts. The Shoplite Overview mentions promotions, which include student discounts, but does not provide details on the loyalty program. The answer is accurate, concise, and brief.\n",
      "Similarity: 0.76 | Correct: True\n",
      "\n"
     ]
    },
    {
     "name": "stderr",
     "output_type": "stream",
     "text": [
      "Setting `pad_token_id` to `eos_token_id`:128001 for open-end generation.\n"
     ]
    },
    {
     "name": "stdout",
     "output_type": "stream",
     "text": [
      "[Q19] ### Q19: How does Shoplite contribute to the environment?\n",
      "Expected: It uses recyclable packaging, eco-friendly couriers where possible, and offers “green shipping” as a slower but sustainable delivery option.\n",
      "Got: This answer is based on 3 document(s) from the knowledge base.\n",
      "Shoplite contributes to the environment by making sustainable choices. Packaging is recyclable, and customers are encouraged to recycle. The company partners with eco-friendly couriers where possible. Additionally, customers can opt for “green shipping,” which uses slower but lower-carbon delivery methods. Shoplite also supports charity campaigns, donating a portion of sales during special events to environmental causes. By making these choices, Shoplite aims to balance convenience with responsibility.\n",
      "Similarity: 0.68 | Correct: True\n",
      "\n",
      "[Q20] ### Q20: What should I do if the Shoplite app crashes?\n",
      "Expected: First try clearing cache, updating the app, or restarting your device. If it persists, contact Shoplite technical support.\n",
      "Got: This answer is based on 3 document(s) from the knowledge base.\n",
      "According to Document 20: Technical Support, if you encounter issues with the Shoplite app, you should try clearing cache, updating the app, or restarting your device before contacting technical support. If the issue persists, technical support may request screenshots or device details to troubleshoot. If the issue cannot be solved immediately, it will be escalated to the engineering team, and you will be updated via email. Shoplite strives to fix critical bugs quickly and release regular updates.\n",
      "Similarity: 0.86 | Correct: True\n",
      "\n",
      "=== Final Evaluation ===\n",
      "Accuracy: 100.0% (20/20)\n",
      "Faithfulness: 100.0% (20/20)\n"
     ]
    }
   ],
   "source": [
    "import re\n",
    "\n",
    "\n",
    "qa_file = \"ground-truth-qa.md\"\n",
    "with open(qa_file, \"r\") as f:\n",
    "    qa_text = f.read()\n",
    "\n",
    "qa_pairs = qa_text.split(\"---\")\n",
    "qa_pairs = [pair.strip() for pair in qa_pairs if pair.strip()]\n",
    "print(\"QA: \", len(qa_pairs)-1)\n",
    "\n",
    "def clean_text(text):\n",
    "    text = re.sub(r\"📖.*\", \"\", text)\n",
    "    text = re.sub(r\"`+\", \"\", text)\n",
    "    text = text.replace(\"_____\", \"\")\n",
    "    return text.strip()\n",
    "\n",
    "def evaluate_rag(k=3, threshold=0.7):\n",
    "    total = len(qa_pairs) - 1\n",
    "    correct = 0\n",
    "    faithful = 0\n",
    "    results = []\n",
    "\n",
    "    for i, pair in enumerate(qa_pairs[1:], start=1):\n",
    "        try:\n",
    "            question, expected = pair.split('**Answer:**')\n",
    "        except ValueError:\n",
    "            print(f\"Skipping malformed QA pair: {pair}\")\n",
    "            continue\n",
    "\n",
    "        expected_answer = clean_text(expected)\n",
    "        raw_answer = rag_query(question, k=k)\n",
    "        generated_answer = clean_text(raw_answer)\n",
    "\n",
    "        # semantic similarity\n",
    "        sim = util.cos_sim(\n",
    "            embedder.encode(generated_answer, convert_to_tensor=True),\n",
    "            embedder.encode(expected_answer, convert_to_tensor=True)\n",
    "        ).item()\n",
    "\n",
    "        is_correct = sim >= threshold\n",
    "        is_faithful = \"not in the provided documents\" not in generated_answer.lower()\n",
    "\n",
    "        if is_correct:\n",
    "            correct += 1\n",
    "        if is_faithful:\n",
    "            faithful += 1\n",
    "\n",
    "        results.append({\n",
    "            \"Question\": question.strip(),\n",
    "            \"Expected\": expected_answer,\n",
    "            \"Answer\": generated_answer,\n",
    "            \"Similarity\": sim,\n",
    "            \"Correct\": is_correct,\n",
    "            \"Faithful\": is_faithful\n",
    "        })\n",
    "\n",
    "        print(f\"[Q{i}] {question.strip()}\")\n",
    "        print(f\"Expected: {expected_answer}\")\n",
    "        print(f\"Got: {generated_answer.strip()}\")\n",
    "        print(f\"Similarity: {sim:.2f} | Correct: {is_correct}\\n\")\n",
    "\n",
    "    accuracy = (correct / total) * 100\n",
    "    faithfulness_score = (faithful / total) * 100\n",
    "    print(\"=== Final Evaluation ===\")\n",
    "    print(f\"Accuracy: {accuracy:.1f}% ({correct}/{total})\")\n",
    "    print(f\"Faithfulness: {faithfulness_score:.1f}% ({faithful}/{total})\")\n",
    "\n",
    "    return results, accuracy, faithfulness_score\n",
    "\n",
    "results, accuracy, faithfulness = evaluate_rag(k=3, threshold=0.6)"
   ]
  },
  {
   "cell_type": "markdown",
   "id": "f304b340",
   "metadata": {},
   "source": [
    "# Ngrok and flask"
   ]
  },
  {
   "cell_type": "code",
   "execution_count": null,
   "id": "d974ce05",
   "metadata": {},
   "outputs": [
    {
     "name": "stdout",
     "output_type": "stream",
     "text": [
      "Requirement already satisfied: flask in /usr/local/lib/python3.12/dist-packages (3.1.2)\n",
      "Requirement already satisfied: pyngrok in /usr/local/lib/python3.12/dist-packages (7.4.0)\n",
      "Requirement already satisfied: blinker>=1.9.0 in /usr/local/lib/python3.12/dist-packages (from flask) (1.9.0)\n",
      "Requirement already satisfied: click>=8.1.3 in /usr/local/lib/python3.12/dist-packages (from flask) (8.2.1)\n",
      "Requirement already satisfied: itsdangerous>=2.2.0 in /usr/local/lib/python3.12/dist-packages (from flask) (2.2.0)\n",
      "Requirement already satisfied: jinja2>=3.1.2 in /usr/local/lib/python3.12/dist-packages (from flask) (3.1.6)\n",
      "Requirement already satisfied: markupsafe>=2.1.1 in /usr/local/lib/python3.12/dist-packages (from flask) (3.0.2)\n",
      "Requirement already satisfied: werkzeug>=3.1.0 in /usr/local/lib/python3.12/dist-packages (from flask) (3.1.3)\n",
      "Requirement already satisfied: PyYAML>=5.1 in /usr/local/lib/python3.12/dist-packages (from pyngrok) (6.0.2)\n"
     ]
    }
   ],
   "source": [
    "!pip install flask pyngrok"
   ]
  },
  {
   "cell_type": "code",
   "execution_count": null,
   "id": "9a684448",
   "metadata": {},
   "outputs": [
    {
     "name": "stdout",
     "output_type": "stream",
     "text": [
      "Enter your ngrok token: \n",
      " * Ngrok tunnel open: https://nondiaphanous-unonerously-mimi.ngrok-free.dev\n",
      " * Serving Flask app '__main__'\n",
      " * Debug mode: off\n"
     ]
    },
    {
     "name": "stderr",
     "output_type": "stream",
     "text": [
      "INFO:werkzeug:\u001b[31m\u001b[1mWARNING: This is a development server. Do not use it in a production deployment. Use a production WSGI server instead.\u001b[0m\n",
      " * Running on http://127.0.0.1:5000\n",
      "INFO:werkzeug:\u001b[33mPress CTRL+C to quit\u001b[0m\n"
     ]
    }
   ],
   "source": [
    "import json\n",
    "from flask import Flask, request, jsonify\n",
    "from pyngrok import ngrok\n",
    "\n",
    "app = Flask(__name__)\n",
    "\n",
    "# /health route\n",
    "@app.route(\"/health\", methods=[\"GET\"])\n",
    "def health():\n",
    "    return jsonify({\"status\": \"ok\", \"message\": \"RAG system is running\"})\n",
    "\n",
    "# /ping route\n",
    "@app.route(\"/ping\", methods=[\"POST\"])\n",
    "def ping():\n",
    "    data = request.get_json()\n",
    "    query = data.get(\"query\", \"\")\n",
    "    if not query:\n",
    "        return jsonify({\"error\": \"No query provided\"}), 400\n",
    "\n",
    "    inputs = tokenizer(query, return_tensors=\"pt\").to(model.device)\n",
    "    outputs = model.generate(**inputs, max_new_tokens=128)\n",
    "    answer = tokenizer.decode(outputs[0], skip_special_tokens=True)\n",
    "\n",
    "    return jsonify({\"query\": query, \"response\": answer})\n",
    "\n",
    "# /chat route\n",
    "@app.route(\"/chat\", methods=[\"POST\"])\n",
    "def chat():\n",
    "    data = request.get_json()\n",
    "    query = data.get(\"query\", \"\")\n",
    "    if not query:\n",
    "        return jsonify({\"error\": \"No query provided\"}), 400\n",
    "\n",
    "    answer = rag_query(query)\n",
    "\n",
    "    return jsonify({\n",
    "        \"query\": query,\n",
    "        \"answer\": answer\n",
    "    })\n",
    "\n",
    "ngrok_token = input(\"Enter your ngrok token: \")\n",
    "ngrok.set_auth_token(ngrok_token)\n",
    "public_url = ngrok.connect(5000).public_url\n",
    "print(\" * Ngrok tunnel open:\", public_url)\n",
    "\n",
    "app.run(port=5000)\n"
   ]
  }
 ],
 "metadata": {
  "language_info": {
   "name": "python"
  }
 },
 "nbformat": 4,
 "nbformat_minor": 5
}
